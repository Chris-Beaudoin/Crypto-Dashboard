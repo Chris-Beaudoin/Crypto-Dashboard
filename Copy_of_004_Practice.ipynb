{
  "nbformat": 4,
  "nbformat_minor": 0,
  "metadata": {
    "colab": {
      "provenance": [],
      "authorship_tag": "ABX9TyNn167D9b5pgslKYLFZygMp",
      "include_colab_link": true
    },
    "kernelspec": {
      "name": "python3",
      "display_name": "Python 3"
    },
    "language_info": {
      "name": "python"
    }
  },
  "cells": [
    {
      "cell_type": "markdown",
      "metadata": {
        "id": "view-in-github",
        "colab_type": "text"
      },
      "source": [
        "<a href=\"https://colab.research.google.com/github/Chris-Beaudoin/Crypto-Dashboard/blob/main/Copy_of_004_Practice.ipynb\" target=\"_parent\"><img src=\"https://colab.research.google.com/assets/colab-badge.svg\" alt=\"Open In Colab\"/></a>"
      ]
    },
    {
      "cell_type": "code",
      "execution_count": null,
      "metadata": {
        "id": "2YE8wtBgjDoj"
      },
      "outputs": [],
      "source": []
    },
    {
      "cell_type": "markdown",
      "source": [
        "Exercise 1: Convert two lists into a dictionary\n",
        "Below are the two lists. Write a Python program to convert them into a dictionary in a way that item from list1 is the key and item from list2 is the value"
      ],
      "metadata": {
        "id": "pFyktP3ojFGM"
      }
    },
    {
      "cell_type": "code",
      "source": [
        "# keys = ['Ten', 'Twenty', 'Thirty']\n",
        "# values = [10, 20, 30]\n",
        "\n",
        "# def zip(keys, values):\n",
        "#   for var in range(len(keys)):\n",
        "#     dictionary = {keys[var]:values[var]}\n",
        "#     return dictionary\n",
        "  "
      ],
      "metadata": {
        "colab": {
          "base_uri": "https://localhost:8080/",
          "height": 130
        },
        "id": "kNElUTAKjIrb",
        "outputId": "2a9b5df6-994a-4fcc-d15d-5f3b53a0d032"
      },
      "execution_count": null,
      "outputs": [
        {
          "output_type": "error",
          "ename": "SyntaxError",
          "evalue": "ignored",
          "traceback": [
            "\u001b[0;36m  File \u001b[0;32m\"<ipython-input-5-668b8d0a28d0>\"\u001b[0;36m, line \u001b[0;32m6\u001b[0m\n\u001b[0;31m    return dictionary\u001b[0m\n\u001b[0m    ^\u001b[0m\n\u001b[0;31mSyntaxError\u001b[0m\u001b[0;31m:\u001b[0m 'return' outside function\n"
          ]
        }
      ]
    },
    {
      "cell_type": "code",
      "source": [
        "# keys = ['Ten', 'Twenty', 'Thirty']\n",
        "# values = [10, 20, 30]\n",
        "\n",
        "# mydict = {}\n",
        "\n",
        "# for i in range(len(keys)):\n",
        "#     mydict[keys[i]] = values[i]\n",
        "\n",
        "# for key, value in mydict.items():\n",
        "#   print(key, value)\n",
        "\n",
        "# print(list(mydict.keys()))"
      ],
      "metadata": {
        "colab": {
          "base_uri": "https://localhost:8080/"
        },
        "id": "gsbNVEeDkwsU",
        "outputId": "76285db4-4024-47b5-be2a-6e999b1f6713"
      },
      "execution_count": null,
      "outputs": [
        {
          "output_type": "stream",
          "name": "stdout",
          "text": [
            "Ten 10\n",
            "Twenty 20\n",
            "Thirty 30\n",
            "['Ten', 'Twenty', 'Thirty']\n"
          ]
        }
      ]
    },
    {
      "cell_type": "markdown",
      "source": [
        "# Practice"
      ],
      "metadata": {
        "id": "Omt-J80E31bv"
      }
    },
    {
      "cell_type": "code",
      "source": [
        "# mydict = {\"one\":1, \"two\":2, \"three\":3, \"four\":4}\n",
        "#KEEP^\n",
        "\n",
        "# def add_to_dict(key, value):\n",
        "#   mydict[key] = value\n",
        "#   return(mydict)\n",
        "#   # for i in dictt\n",
        "  \n",
        "\n",
        "# add_to_dict('five', 5)\n",
        "\n",
        "#KEEP\n",
        "# def add_dict_values(values):\n",
        "#     nums = list(mydict.values())\n",
        "#     total = sum(nums)\n",
        "#     return total\n",
        "\n",
        "# val = add_dict_values(mydict)\n",
        "\n",
        "# print(val)\n",
        "#KEEP\n",
        "\n",
        "\n",
        "# total, nums = add_dict_values(mydict) #In scenario that you would have \n",
        "\n",
        "# if add_dict_values(mydict) > 10: # example\n",
        "\n",
        "# elif add_dict_values(mydict) < 10 # example\n",
        "\n",
        "\n",
        "\n",
        "\n",
        "\n",
        "\n"
      ],
      "metadata": {
        "id": "Wx0rgm7soTuq"
      },
      "execution_count": null,
      "outputs": []
    },
    {
      "cell_type": "markdown",
      "source": [],
      "metadata": {
        "id": "UtNFvfje30EI"
      }
    },
    {
      "cell_type": "markdown",
      "source": [],
      "metadata": {
        "id": "PEKMTtYj30DQ"
      }
    },
    {
      "cell_type": "code",
      "source": [
        "# mydict = {\"one\":1, \"two\":2, \"three\":3, \"four\":4}\n",
        "\n",
        "# def add_key_values(val):\n",
        "#   vals = list(mydict.values())\n",
        "#   total = sum(vals)\n",
        "#   return [total, vals]\n",
        "\n",
        "# tot, val = add_key_values(mydict)\n",
        "# print(tot)\n",
        "  \n"
      ],
      "metadata": {
        "id": "EGKm8cbc2L-O"
      },
      "execution_count": null,
      "outputs": []
    },
    {
      "cell_type": "markdown",
      "source": [
        "Given dictionary, only add the value to the total if its key exists"
      ],
      "metadata": {
        "id": "Wzorc0RK39gp"
      }
    },
    {
      "cell_type": "code",
      "source": [
        "# mydict = {\"one\":4, \"two\":7, \"three\":3, \"four\":6}\n",
        "# keys = ['one', 'five', 'three', 'seven', 'eight']\n",
        "\n",
        "# def add_key_values(dictt, listt):\n",
        "#   sum = 0\n",
        "#   for key in listt:\n",
        "#     if key in dictt:\n",
        "#       sum += dictt[key]\n",
        "      \n",
        "#   return sum\n",
        "\n",
        "# sum = add_key_values(mydict, vals)\n",
        "# print(sum)"
      ],
      "metadata": {
        "id": "Ntde-EbD3yze"
      },
      "execution_count": null,
      "outputs": []
    },
    {
      "cell_type": "code",
      "source": [],
      "metadata": {
        "id": "vQdFTEd-FR-P"
      },
      "execution_count": null,
      "outputs": []
    },
    {
      "cell_type": "markdown",
      "source": [
        "if sum < 21 and user wants new card, give new card and new card is number between 1-11"
      ],
      "metadata": {
        "id": "5Igjqu16FWqL"
      }
    },
    {
      "cell_type": "code",
      "source": [
        "import random\n",
        "\n",
        "\n",
        "def card():\n",
        "  sum = 0\n",
        "  want = input(\"Want more? y / n \")\n",
        "  # if want == \"yes\".lower():\n",
        "  #   want = True\n",
        "  # else:\n",
        "  #   want = False\n",
        "\n",
        "  while sum < 21 and want == 'y':\n",
        "    card = rand_card()\n",
        "    sum += card\n",
        "    print(card, sum, want)\n",
        "    if sum >= 21:\n",
        "      print('All set')\n",
        "    else:\n",
        "      want = input(\"Want more? y / n \")\n",
        "    print(\"fin\")\n",
        "card()\n",
        "\n",
        "\n",
        "\n",
        "#Get Random intger between one and 11 fucntion\n",
        "def rand_card():\n",
        "  rand = random.randint(1, 11)\n",
        "  return rand\n",
        "\n",
        "rand = rand_card()\n"
      ],
      "metadata": {
        "colab": {
          "base_uri": "https://localhost:8080/",
          "height": 373
        },
        "id": "wt3HifTxFZt6",
        "outputId": "b2f5629b-c1e6-4715-b825-9d99d2445636"
      },
      "execution_count": 52,
      "outputs": [
        {
          "name": "stdout",
          "output_type": "stream",
          "text": [
            "Want more? y / n y\n"
          ]
        },
        {
          "output_type": "error",
          "ename": "NameError",
          "evalue": "ignored",
          "traceback": [
            "\u001b[0;31m---------------------------------------------------------------------------\u001b[0m",
            "\u001b[0;31mNameError\u001b[0m                                 Traceback (most recent call last)",
            "\u001b[0;32m<ipython-input-52-e1adb36d7c7b>\u001b[0m in \u001b[0;36m<module>\u001b[0;34m\u001b[0m\n\u001b[1;32m     19\u001b[0m       \u001b[0mwant\u001b[0m \u001b[0;34m=\u001b[0m \u001b[0minput\u001b[0m\u001b[0;34m(\u001b[0m\u001b[0;34m\"Want more? y / n \"\u001b[0m\u001b[0;34m)\u001b[0m\u001b[0;34m\u001b[0m\u001b[0;34m\u001b[0m\u001b[0m\n\u001b[1;32m     20\u001b[0m     \u001b[0mprint\u001b[0m\u001b[0;34m(\u001b[0m\u001b[0;34m\"fin\"\u001b[0m\u001b[0;34m)\u001b[0m\u001b[0;34m\u001b[0m\u001b[0;34m\u001b[0m\u001b[0m\n\u001b[0;32m---> 21\u001b[0;31m \u001b[0mcard\u001b[0m\u001b[0;34m(\u001b[0m\u001b[0;34m)\u001b[0m\u001b[0;34m\u001b[0m\u001b[0;34m\u001b[0m\u001b[0m\n\u001b[0m\u001b[1;32m     22\u001b[0m \u001b[0;34m\u001b[0m\u001b[0m\n\u001b[1;32m     23\u001b[0m \u001b[0;34m\u001b[0m\u001b[0m\n",
            "\u001b[0;32m<ipython-input-52-e1adb36d7c7b>\u001b[0m in \u001b[0;36mcard\u001b[0;34m()\u001b[0m\n\u001b[1;32m     11\u001b[0m \u001b[0;34m\u001b[0m\u001b[0m\n\u001b[1;32m     12\u001b[0m   \u001b[0;32mwhile\u001b[0m \u001b[0msum\u001b[0m \u001b[0;34m<\u001b[0m \u001b[0;36m21\u001b[0m \u001b[0;32mand\u001b[0m \u001b[0mwant\u001b[0m \u001b[0;34m==\u001b[0m \u001b[0;34m'y'\u001b[0m\u001b[0;34m:\u001b[0m\u001b[0;34m\u001b[0m\u001b[0;34m\u001b[0m\u001b[0m\n\u001b[0;32m---> 13\u001b[0;31m     \u001b[0mcard\u001b[0m \u001b[0;34m=\u001b[0m \u001b[0mrand_card\u001b[0m\u001b[0;34m(\u001b[0m\u001b[0;34m)\u001b[0m\u001b[0;34m\u001b[0m\u001b[0;34m\u001b[0m\u001b[0m\n\u001b[0m\u001b[1;32m     14\u001b[0m     \u001b[0msum\u001b[0m \u001b[0;34m+=\u001b[0m \u001b[0mcard\u001b[0m\u001b[0;34m\u001b[0m\u001b[0;34m\u001b[0m\u001b[0m\n\u001b[1;32m     15\u001b[0m     \u001b[0mprint\u001b[0m\u001b[0;34m(\u001b[0m\u001b[0mcard\u001b[0m\u001b[0;34m,\u001b[0m \u001b[0msum\u001b[0m\u001b[0;34m,\u001b[0m \u001b[0mwant\u001b[0m\u001b[0;34m)\u001b[0m\u001b[0;34m\u001b[0m\u001b[0;34m\u001b[0m\u001b[0m\n",
            "\u001b[0;31mNameError\u001b[0m: name 'rand_card' is not defined"
          ]
        }
      ]
    },
    {
      "cell_type": "code",
      "source": [
        "import random\n",
        "\n",
        "def black_jack():\n",
        "  want_card = input('Would you like a new card? (y or n)')\n",
        "  hand = 0\n",
        "  while hand < 21 and want_card == 'y':\n",
        "    card = oneleven()\n",
        "    print(card)\n",
        "    hand += card\n",
        "    print(hand)\n",
        "    if hand == 21:\n",
        "      print('You win!!')\n",
        "    elif hand < 21 and want_card == 'n':\n",
        "      print('Bust')\n",
        "    elif hand > 21:\n",
        "      print('Out!')\n",
        "    else:\n",
        "      ywant_card = input('Would you like a new card? (y or n)')\n",
        "    \n",
        "  \n",
        "  return hand\n",
        "  \n",
        "\n",
        "hand = black_jack()\n",
        "\n",
        "  # want_card == 'n' and :\n",
        "\n",
        "  # return hand\n",
        "\n",
        "\n",
        "def oneleven():\n",
        "  num = random.randint(1, 11)\n",
        "  return num\n",
        "\n",
        "# num = oneleven()\n",
        "# print(num)"
      ],
      "metadata": {
        "colab": {
          "base_uri": "https://localhost:8080/"
        },
        "id": "RGSfSgIne8sW",
        "outputId": "e6d09168-37f7-4f1f-f60d-3ae77110bb66"
      },
      "execution_count": 55,
      "outputs": [
        {
          "output_type": "stream",
          "name": "stdout",
          "text": [
            "Would you like a new card? (y or n)y\n",
            "9\n",
            "9\n",
            "Would you like a new card? (y or n)y\n",
            "9\n",
            "18\n",
            "Would you like a new card? (y or n)y\n",
            "5\n",
            "23\n",
            "Out!\n"
          ]
        }
      ]
    }
  ]
}