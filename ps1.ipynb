{
  "cells": [
    {
      "cell_type": "markdown",
      "metadata": {
        "id": "view-in-github",
        "colab_type": "text"
      },
      "source": [
        "<a href=\"https://colab.research.google.com/github/Chris-Beaudoin/Crypto-Dashboard/blob/main/ps1.ipynb\" target=\"_parent\"><img src=\"https://colab.research.google.com/assets/colab-badge.svg\" alt=\"Open In Colab\"/></a>"
      ]
    },
    {
      "cell_type": "markdown",
      "metadata": {
        "id": "hPDuMyh8E7me"
      },
      "source": [
        "# Problem Set 1\n",
        "#### CMSI 1010: Computer Programming and Lab"
      ]
    },
    {
      "cell_type": "markdown",
      "metadata": {
        "id": "fGd49GigE7mi"
      },
      "source": [
        "##### Important Dates\n",
        "\n",
        " - Released: 2022-09-13 at 12:00 am [PT]\n",
        " - Deadline: 2022-09-20 at 11:59 pm [PT]"
      ]
    },
    {
      "cell_type": "markdown",
      "metadata": {
        "id": "zIxMn6NeE7mj"
      },
      "source": [
        "# Question 1: Reading\n",
        "* Chapter 2 in the _Think Python_ textbook: http://greenteapress.com/thinkpython2/thinkpython2.pdf"
      ]
    },
    {
      "cell_type": "markdown",
      "metadata": {
        "id": "gQGVQoBQE7mj"
      },
      "source": [
        "*italicized text*--Your reading summary notes go here--\n",
        "an assignment creates a new variable and gives it a value:\n",
        "message = 'And now for something completely different'\n",
        " n = 17\n",
        " pi = 3.1415926535897932\n",
        " Variable names can be as long as you like. \n",
        " An expression is a combination of values, variables, and operators.\n",
        " When you type an expression at the prompt, the interpreter evaluates it\n",
        " A statement is a unit of code that has an effect, like creating a variable or displaying a\n",
        "value.\n",
        "n interactive mode, which means that you interact directly\n",
        "with the interpreter\n",
        "The alternative is to save code in a file called a script and then run the interpreter in script\n",
        "mode to execute the script.\n",
        "Python follows PEMDAS\n",
        "The + operator performs string concatenation, which means it joins the strings by linking\n",
        "them end-to-end. For example:\n",
        "These notes are called comments, and they start with\n",
        "the # symbol:\n",
        "Debugging (can include Syntax error, Runtime Error, Semantic Error)\n",
        "variable: A name that refers to a value.\n",
        "assignment: A statement that assigns a value to a variable.\n",
        "state diagram: A graphical representation of a set of variables and the values they refer to.\n",
        "keyword: A reserved word that is used to parse a program; you cannot use keywords like\n",
        "if, def, and while as variable names.\n",
        "operand: One of the values on which an operator operates.\n",
        "expression: A combination of variables, operators, and values that represents a single result.\n",
        "evaluate: To simplify an expression by performing the operations in order to yield a single\n",
        "value.\n",
        "statement: A section of code that represents a command or action. So far, the statements\n",
        "we have seen are assignments and print statements.\n",
        "execute: To run a statement and do what it says.\n",
        "interactive mode: A way of using the Python interpreter by typing code at the prompt.\n",
        "script mode: A way of using the Python interpreter to read code from a script and run it.\n",
        "script: A program stored in a file.\n",
        "order of operations: Rules governing the order in which expressions involving multiple\n",
        "operators and operands are evaluated.\n",
        "concatenate: To join two operands end-to-end.\n",
        "comment: Information in a program that is meant for other programmers (or anyone reading the source code) and has no effect on the execution of the program.\n",
        "syntax error: An error in a program that makes it impossible to parse (and therefore impossible to interpret).\n",
        "exception: An error that is detected while the program is running.\n",
        "semantics: The meaning of a program.\n",
        "semantic error: An error in a program that makes it do something other than what the\n",
        "programmer intended.\n",
        "\n"
      ]
    },
    {
      "cell_type": "markdown",
      "metadata": {
        "id": "W7ZcRdu4E7mk"
      },
      "source": [
        "# Question 2\n",
        "\n",
        "Refer to the above link for the following exercises and edit this file with your answers. Try to take full advantage of [Markdown](https://guides.github.com/features/mastering-markdown/) so that your answers are clearly and beautifully formatted!"
      ]
    },
    {
      "cell_type": "markdown",
      "metadata": {
        "id": "wC7vdkeIE7mk"
      },
      "source": [
        "### Part A\n",
        "\n",
        " **Textbook exercise 2.1**"
      ]
    },
    {
      "cell_type": "markdown",
      "metadata": {
        "id": "w-Y3Jj26E7ml"
      },
      "source": [
        "We’ve seen that n = 42 is legal. What about 42 = n?"
      ]
    },
    {
      "cell_type": "markdown",
      "metadata": {
        "id": "8qwAWbReE7ml"
      },
      "source": [
        "-- does not work -- double click to type"
      ]
    },
    {
      "cell_type": "markdown",
      "metadata": {
        "id": "7rEi2PNHE7mm"
      },
      "source": [
        "How about x = y = 1?"
      ]
    },
    {
      "cell_type": "markdown",
      "metadata": {
        "id": "Ei1YC0qwE7mm"
      },
      "source": [
        "-- works --"
      ]
    },
    {
      "cell_type": "markdown",
      "metadata": {
        "id": "lxOBe-dmE7mn"
      },
      "source": [
        "In some languages every statement ends with a semi-colon ;. What happens if you put a semi-colon at the end of a Python statement?"
      ]
    },
    {
      "cell_type": "markdown",
      "metadata": {
        "id": "pLW-NOuNE7mn"
      },
      "source": [
        "-- seems to be ok --"
      ]
    },
    {
      "cell_type": "markdown",
      "metadata": {
        "id": "pa0yIjPkE7mn"
      },
      "source": [
        "What if you put a period at the end of a statement?"
      ]
    },
    {
      "cell_type": "markdown",
      "metadata": {
        "id": "guyoDPMGE7mn"
      },
      "source": [
        "-- syntax error --"
      ]
    },
    {
      "cell_type": "markdown",
      "metadata": {
        "id": "X2h8EtaBE7mo"
      },
      "source": [
        "In math notation you can multiply x and y like this: x y. What happens if you try that in Python?"
      ]
    },
    {
      "cell_type": "markdown",
      "metadata": {
        "id": "EWqiWt-rE7mo"
      },
      "source": [
        "-- it thinks you are trying to call something --"
      ]
    },
    {
      "cell_type": "markdown",
      "metadata": {
        "id": "OOQSvbr5E7mo"
      },
      "source": [
        "### Part B\n",
        " **Textbook exercise 2.2** (parts 1, 2, and 3)\n",
        "\n",
        "Practice using Python as a calculator:"
      ]
    },
    {
      "cell_type": "markdown",
      "metadata": {
        "id": "F9SJwed3E7mo"
      },
      "source": [
        "The volume of a sphere with radius $r$ is $4/3 π r^3$. What is the volume of a sphere with radius 5?"
      ]
    },
    {
      "cell_type": "code",
      "execution_count": null,
      "metadata": {
        "id": "Ihks2SlOE7mp",
        "colab": {
          "base_uri": "https://localhost:8080/"
        },
        "outputId": "9577204a-a902-4935-ec69-e822dcf20898"
      },
      "outputs": [
        {
          "output_type": "stream",
          "name": "stdout",
          "text": [
            "523.6\n"
          ]
        }
      ],
      "source": [
        "# your code here\n",
        "import math\n",
        "# PBQ1 = 4/3 * math.pi * 5 **3\n",
        "# print(round(PBQ1, 2))\n",
        "\n",
        "def sphere_volume(r):\n",
        "  return round((4/3)*math.pi*r**3, 2)\n",
        "print(sphere_volume(5))\n"
      ]
    },
    {
      "cell_type": "markdown",
      "metadata": {
        "id": "BQHHKTaBE7mq"
      },
      "source": [
        "Suppose the cover price of a book is $\\$ 24.95$, but bookstores get a $40\\%$ discount. Shipping costs $\\$3$ for the first copy and 75 cents for each additional copy. What is the total wholesale cost for 60 copies?"
      ]
    },
    {
      "cell_type": "code",
      "execution_count": null,
      "metadata": {
        "id": "E3QU8kt2E7mq",
        "colab": {
          "base_uri": "https://localhost:8080/"
        },
        "outputId": "4d6d1097-47ab-404a-8cea-a42ee384d083"
      },
      "outputs": [
        {
          "output_type": "stream",
          "name": "stdout",
          "text": [
            "741.52\n"
          ]
        }
      ],
      "source": [
        "# your code here\n",
        "book_cover = 24.95\n",
        "book_store_price = book_cover *.4\n",
        "wholesale = book_store_price * 74 + 3\n",
        "print (wholesale)"
      ]
    },
    {
      "cell_type": "markdown",
      "metadata": {
        "id": "WweWmZSGE7mq"
      },
      "source": [
        "If I leave my house at 6:52 am and run 1 mile at an easy pace (8:15 per mile), then 3 miles at tempo (7:12 per mile) and 1 mile at easy pace again, what time do I get home for breakfast?"
      ]
    },
    {
      "cell_type": "code",
      "execution_count": null,
      "metadata": {
        "id": "ygTl43TmE7mq",
        "colab": {
          "base_uri": "https://localhost:8080/"
        },
        "outputId": "aa5329ad-cc90-4ea8-b1b4-d10f26340045"
      },
      "outputs": [
        {
          "output_type": "stream",
          "name": "stdout",
          "text": [
            "7.5 This is the total time in hrs (unrounded)\n",
            "Total time is 7:30 \n"
          ]
        }
      ],
      "source": [
        "# your code here\n",
        "easy_pace = 2 * (8 * 60 + 15)\n",
        "tempo_pace = 3 * (7 * 60 + 12)\n",
        "time = (6 * 60 + 52) * 60\n",
        "total_hrs = round( (easy_pace + tempo_pace + time) / 3600, 2)\n",
        "print(total_hrs, 'This is the total time in hrs (unrounded)')\n",
        "hrs = str(total_hrs).split ('.')[0] #turns code into string so it can be split, splits the code at the decimal, takes the first index of the array\n",
        "min = str(total_hrs).split ('.')[1]\n",
        "# sec = int(str(total_hrs).split ('.')[1])%100/100\n",
        "min = int(int(min) * 60 /10)\n",
        "print(f'Total time is {hrs}:{min} ')"
      ]
    },
    {
      "cell_type": "markdown",
      "metadata": {
        "id": "va7JQT-tE7mq"
      },
      "source": [
        "# Question 3\n",
        "\n",
        "#### Programming: Write a Mad Lib\n",
        "Mad Libs are word games where one player fills in the blanks of another player’s story by providing words of certain types. When the words are substituted in for the blanks, the result is a complete, grammatically correct, but often nonsensical, story.\n",
        "\n",
        "In this question, we are going to write a program that lets the user make a Mad Lib!\n",
        "\n",
        "First, you will need a Mad Lib: feel free to write your own or choose one from http://www.madglibs.com"
      ]
    },
    {
      "cell_type": "markdown",
      "metadata": {
        "id": "6Fhj7Hb8E7mr"
      },
      "source": [
        "Now, using the `input` function we learned in class, prompt the user for words to fill in the blanks. Ask the user for at least four (4) values (e.g., ADJ, NOUN, VERB, etc.)."
      ]
    },
    {
      "cell_type": "code",
      "execution_count": null,
      "metadata": {
        "id": "ZkBEOUZZE7mr",
        "colab": {
          "base_uri": "https://localhost:8080/"
        },
        "outputId": "58b5ca83-ae15-44db-d538-4f27b04e4bd4"
      },
      "outputs": [
        {
          "output_type": "stream",
          "name": "stdout",
          "text": [
            "What do you want your adjective to be? wide\n",
            "What do you want your noun to be? lake\n",
            "What do you want your verb (action) to be? jumping\n",
            "What do you want your noun (animal) to be? pup\n",
            "What do you want your adjective to be? hairy\n",
            "What do you want your noun to be? cave\n",
            "The car went by the wide lake in order to save a jumping monkey from the pup. The hairy monkey was able to get back to its cave safe and sound.\n"
          ]
        }
      ],
      "source": [
        "ADJ = input('What do you want your adjective to be? ')\n",
        "NOUN = input('What do you want your noun to be? ')\n",
        "ACT = input('What do you want your verb (action) to be? ')\n",
        "NOUN2 = input('What do you want your noun (animal) to be? ')\n",
        "ADJ2 = input('What do you want your adjective to be? ')\n",
        "NOUN3 = input('What do you want your noun to be? ')\n",
        "\n",
        "print(f'The car went by the {ADJ} {NOUN} in order to save a {ACT} monkey from the {NOUN2}. The {ADJ2} monkey was able to get back to its {NOUN3} safe and sound.')"
      ]
    },
    {
      "cell_type": "markdown",
      "metadata": {
        "id": "uQ82WiS6E7mr"
      },
      "source": [
        "Finally, print out the story for the user!"
      ]
    },
    {
      "cell_type": "code",
      "execution_count": null,
      "metadata": {
        "id": "q-rwAaPRE7mr",
        "colab": {
          "base_uri": "https://localhost:8080/"
        },
        "outputId": "ca1db583-049c-4d13-dacb-0f6372dbb75e"
      },
      "outputs": [
        {
          "output_type": "stream",
          "name": "stdout",
          "text": [
            "The car went by the wide lake in order to save a jumping monkey from the pup. The hairy monkey was able to get back to its cave safe and sound.\n"
          ]
        }
      ],
      "source": [
        "print(f'The car went by the {ADJ} {NOUN} in order to save a {ACT} monkey from the {NOUN2}. The {ADJ2} monkey was able to get back to its {NOUN3} safe and sound.')"
      ]
    },
    {
      "cell_type": "markdown",
      "source": [
        ":Photo_with_maya\n",
        "^ uploading with a really long adress and I am not sure to get around it. I will have to ask in class"
      ],
      "metadata": {
        "id": "stn-X-77FtYZ"
      }
    }
  ],
  "metadata": {
    "kernelspec": {
      "display_name": "Python 3",
      "language": "python",
      "name": "python3"
    },
    "language_info": {
      "codemirror_mode": {
        "name": "ipython",
        "version": 3
      },
      "file_extension": ".py",
      "mimetype": "text/x-python",
      "name": "python",
      "nbconvert_exporter": "python",
      "pygments_lexer": "ipython3",
      "version": "3.8.5"
    },
    "colab": {
      "provenance": [],
      "include_colab_link": true
    }
  },
  "nbformat": 4,
  "nbformat_minor": 0
}