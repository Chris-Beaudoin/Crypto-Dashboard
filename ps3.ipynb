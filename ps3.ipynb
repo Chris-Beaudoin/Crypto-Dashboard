{
  "cells": [
    {
      "cell_type": "markdown",
      "metadata": {
        "id": "view-in-github",
        "colab_type": "text"
      },
      "source": [
        "<a href=\"https://colab.research.google.com/github/Chris-Beaudoin/Crypto-Dashboard/blob/main/ps3.ipynb\" target=\"_parent\"><img src=\"https://colab.research.google.com/assets/colab-badge.svg\" alt=\"Open In Colab\"/></a>"
      ]
    },
    {
      "cell_type": "markdown",
      "metadata": {
        "id": "sFggzmYsfkMB"
      },
      "source": [
        "# Problem Set 3\n",
        "#### CMSI 1010: Computer Programming and Lab"
      ]
    },
    {
      "cell_type": "markdown",
      "metadata": {
        "id": "SIwEbAU8fkMF"
      },
      "source": [
        "# Important Dates\n",
        "\n",
        " - Released: 2022-09-29 at 12:00 am [PT]\n",
        " - Deadline: 2022-10-06 at 11:59 pm [PT]"
      ]
    },
    {
      "cell_type": "markdown",
      "metadata": {
        "id": "exLctFGDfkMF"
      },
      "source": [
        "# Question 1: Reading Notes\n",
        "\n",
        "All readings are from the [_Think Python_ textbook](http://greenteapress.com/thinkpython2/thinkpython2.pdf):\n",
        "* Supporting content for this pset: Chapters 7–9\n",
        "* Upcoming content: Chapters 11–13, 15–17\n",
        "\n",
        "Take notes from your readings and submit them as part of this pset."
      ]
    },
    {
      "cell_type": "markdown",
      "metadata": {
        "id": "UttS-YKMfkMG"
      },
      "source": [
        "A common kind of reassignment is an update, where the new value of the variable depends\n",
        "on the old\n",
        "\n",
        "Before you can update a variable, you have to initialize it, usually with a simple assignment:\n",
        "\n",
        "Updating a variable by adding 1 is called an increment; subtracting 1 is called a decrement.\n",
        "\n",
        "Loop that does not stop is called an infinite loop\n",
        "\n",
        "the break statment ends the passing through of the loop and continue passes to the next variable\n",
        "\n",
        "Loops are often used in programs that compute numerical results by starting with an approximate answer and iteratively improving it\n",
        "\n",
        "Newton’s method is an example of an algorithm:\n",
        "\n",
        "reassignment: Assigning a new value to a variable that already exists.\n",
        "update: An assignment where the new value of the variable depends on the old.\n",
        "initialization: An assignment that gives an initial value to a variable that will be updated.\n",
        "increment: An update that increases the value of a variable (often by one).\n",
        "decrement: An update that decreases the value of a variable.\n",
        "iteration: Repeated execution of a set of statements using either a recursive function call\n",
        "or a loop.\n",
        "infinite loop: A loop in which the terminating condition is never satisfied.\n",
        "algorithm: A general process for solving a category of problems\n",
        "\n",
        "A string is a sequence, which means it is\n",
        "an ordered collection of other values. In this chapter you’ll see how to access the characters\n",
        "that make up a string, and you’ll learn about some of the methods strings provide\n",
        "\n",
        "The expression in brackets is called an index. The index indicates which character in the\n",
        "sequence you want (hence the name).\n",
        "\n",
        "len is a built-in function that returns the number of characters in a string:\n",
        "\n",
        "Or you can use negative indices, which count backward from the end of the string. The\n",
        "expression fruit[-1] yields the last letter, fruit[-2] yields the second to last, and so on\n",
        "\n",
        "This pattern of processing is called a traversal. One way to write a traversal is with a\n",
        "while loop:\n",
        "\n",
        "A segment of a string is called a slice\n",
        "\n",
        "If the first index is greater than or equal to the second the result is an empty string, represented by two quotation marks\n",
        "\n",
        "The reason for the error is that strings are immutable, which means you can’t change an\n",
        "existing string. The best you can do is create a new string that is a variation on the original:\n",
        "\n",
        "This pattern of computation—traversing a sequence and returning when we find what we\n",
        "are looking for—is called a search.\n",
        "\n",
        "This program demonstrates another pattern of computation called a counter. The variable\n",
        "count is initialized to 0 and then incremented each time an a is found. When the loop exits,\n",
        "count contains the result—the total number of a’s.\n",
        "\n",
        "A method call is called an invocation; in this case, we would say that we are invoking\n",
        "upper on word.\n",
        "\n",
        "This is an example of an optional argument; find can also take a third argument, the index\n",
        "where it should stop:\n",
        "\n",
        "The word in is a boolean operator that takes two strings and returns True if the first appears as a substring in the second:\n",
        "\n",
        "The relational operators work on strings. To see if two strings are equal:\n",
        "\n",
        "object: Something a variable can refer to. For now, you can use “object” and “value”\n",
        "interchangeably.\n",
        "sequence: An ordered collection of values where each value is identified by an integer\n",
        "index.\n",
        "item: One of the values in a sequence.\n",
        "index: An integer value used to select an item in a sequence, such as a character in a string.\n",
        "In Python indices start from 0.\n",
        "slice: A part of a string specified by a range of indices.\n",
        "empty string: A string with no characters and length 0, represented by two quotation\n",
        "marks.\n",
        "immutable: The property of a sequence whose items cannot be changed.\n",
        "traverse: To iterate through the items in a sequence, performing a similar operation on\n",
        "each.\n",
        "search: A pattern of traversal that stops when it finds what it is looking for.\n",
        "counter: A variable used to count something, usually initialized to zero and then incremented.\n",
        "invocation: A statement that calls a method.\n",
        "optional argument: A function or method argument that is not required.\n",
        "\n",
        "There are lots of word\n",
        "lists available on the Web, but the one most suitable for our purpose is one of the word lists\n",
        "collected and contributed to the public domain by Grady Ward as part of the Moby lexicon project\n",
        "\n",
        "This file is in plain text, so you can open it with a text editor, but you can also read it from\n",
        "Python. The built-in function open takes the name of the file as a parameter and returns a\n",
        "file object\n",
        "\n",
        "The for loop traverses the characters in word. If we find the letter “e”, we can immediately\n",
        "return False; otherwise we have to go to the next letter. If we exit the loop normally, that\n",
        "means we didn’t find an “e”, so we return True.\n",
        "\n",
        "\n",
        "For is_abecedarian we have to compare adjacent letters, which is a little tricky with a for\n",
        "loop:\n",
        "def is_abecedarian(word):\n",
        "previous = word[0]\n",
        "for c in word:\n",
        "if c < previous:\n",
        "return False\n",
        "previous = c\n",
        "return True\n",
        "An alternative is to use recursion:\n",
        "def is_abecedarian(word):\n",
        "if len(word) <= 1:\n",
        "return True\n",
        "if word[0] > word[1]:\n",
        "return False\n",
        "return is_abecedarian(word[1:])\n",
        "Another option is to use a while loop:\n",
        "def is_abecedarian(word):\n",
        "i = 0\n",
        "while i < len(word)-1:\n",
        "if word[i+1] < word[i]:\n",
        "return False\n",
        "i = i+1\n",
        "return True\n",
        "\n",
        "t. To\n",
        "convince yourself that the loop ends correctly, consider an example like 'flossy'. The\n",
        "length of the word is 6, so the last time the loop runs is when i is 4, which is the index of\n",
        "the second-to-last character. On the last iteration, it compares the second-to-last character\n",
        "to the last, which is what we want.\n",
        "\n",
        "The empty string is an example of a special case, which is one of the non-obvious\n",
        "cases where errors often lurk.\n",
        "\n",
        "file object: A value that represents an open file.\n",
        "reduction to a previously solved problem: A way of solving a problem by expressing it\n",
        "as an instance of a previously solved problem.\n",
        "special case: A test case that is atypical or non-obvious (and less likely to be handled correctly).\n",
        "\n"
      ]
    },
    {
      "cell_type": "markdown",
      "metadata": {
        "id": "xKebuoIKfkMG"
      },
      "source": [
        "# Question 2: Understanding loops"
      ]
    },
    {
      "cell_type": "markdown",
      "metadata": {
        "id": "T3yfbtyCfkMH"
      },
      "source": [
        "### Part A\n",
        " For these fragments of code, write the output **_without_** running them."
      ]
    },
    {
      "cell_type": "markdown",
      "metadata": {
        "id": "fqMJ2vF8fkMH"
      },
      "source": [
        "```python\n",
        "    num1 = 10\n",
        "    while num1 > 3:\n",
        "        print(num1)\n",
        "        num1 = num1 - 1\n",
        "```"
      ]
    },
    {
      "cell_type": "markdown",
      "metadata": {
        "id": "i8s8fCDtfkMH"
      },
      "source": [
        " #### Output:\n",
        "    ```\n",
        "    10\n",
        "    9 \n",
        "    8 \n",
        "    7 \n",
        "    6 \n",
        "    5 \n",
        "    4\n",
        "    ```"
      ]
    },
    {
      "cell_type": "markdown",
      "metadata": {
        "id": "5RBxiU5mfkMI"
      },
      "source": [
        "```python\n",
        "    num2 = 10\n",
        "    while True:\n",
        "        if num2 < 7:\n",
        "            # break makes us quit the loop\n",
        "            break\n",
        "        print(num2)\n",
        "        num2 = num2 - 1\n",
        "```"
      ]
    },
    {
      "cell_type": "markdown",
      "metadata": {
        "id": "4znGow75fkMJ"
      },
      "source": [
        " #### Output:\n",
        "    ```\n",
        "    10\n",
        "    9\n",
        "    8\n",
        "    7\n",
        "    ```"
      ]
    },
    {
      "cell_type": "markdown",
      "metadata": {
        "id": "xo75GZx-fkMJ"
      },
      "source": [
        "```python\n",
        "    divisor = 2\n",
        "    for i in range(0, 10, 2):\n",
        "        print(i / divisor)\n",
        "```"
      ]
    },
    {
      "cell_type": "markdown",
      "metadata": {
        "id": "6bo8_yiffkMJ"
      },
      "source": [
        " #### Output:\n",
        "    ```\n",
        "    <!-- 1/0\n",
        "    2/10\n",
        "    2/3??? -->\n",
        "\n",
        "    1.0\n",
        "    2.0\n",
        "    3.0\n",
        "    4.0\n",
        "    ```"
      ]
    },
    {
      "cell_type": "markdown",
      "metadata": {
        "id": "NyT8jVmlfkMK"
      },
      "source": [
        "### Part B\n",
        "\n",
        "These programs use `for` loops to iterate through strings."
      ]
    },
    {
      "cell_type": "markdown",
      "metadata": {
        "id": "ITcTb9Z4fkMK"
      },
      "source": [
        "```python\n",
        "    my_string = 'stressed'\n",
        "    for letter in my_string:\n",
        "        print(letter)\n",
        "```"
      ]
    },
    {
      "cell_type": "markdown",
      "metadata": {
        "id": "jTL8QtS9fkMK"
      },
      "source": [
        "#### Output:\n",
        "    ```\n",
        "    s\n",
        "    t\n",
        "    r\n",
        "    e\n",
        "    s\n",
        "    s\n",
        "    e\n",
        "    d\n",
        "    ```"
      ]
    },
    {
      "cell_type": "markdown",
      "metadata": {
        "id": "Q__wT7Q-fkMK"
      },
      "source": [
        "```python\n",
        "    my_string = 'stressed'\n",
        "    res = ''\n",
        "    for letter in my_string:\n",
        "        res = letter + res\n",
        "    print(res)\n",
        "```"
      ]
    },
    {
      "cell_type": "markdown",
      "metadata": {
        "id": "rKXmtnpCfkML"
      },
      "source": [
        "#### Output:\n",
        "    ```\n",
        "    desserts\n",
        "    ```"
      ]
    },
    {
      "cell_type": "markdown",
      "metadata": {
        "id": "zR4B2vxffkML"
      },
      "source": [
        "Describe, in natural language, what’s happening in this loop:"
      ]
    },
    {
      "cell_type": "markdown",
      "metadata": {
        "id": "cLziVY6ffkML"
      },
      "source": [
        "(edit this cell with your answer)"
      ]
    },
    {
      "cell_type": "markdown",
      "metadata": {
        "id": "NwQMJYNvfkML"
      },
      "source": [
        "# Question 3 : Exponentials\n",
        "\n",
        "Imagine that the `**` operator for numbers has now been removed from the Python programming language. Write a program that prompts the user for a base and an exponent and uses a `for` loop to calculate `base ** exp`. _**Note:** You should handle the case where the user does not type a positive integer._"
      ]
    },
    {
      "cell_type": "code",
      "execution_count": 1,
      "metadata": {
        "id": "oJ1JTXQDfkMM",
        "colab": {
          "base_uri": "https://localhost:8080/"
        },
        "outputId": "657723cd-102d-44f5-9fd3-0631671a6e47"
      },
      "outputs": [
        {
          "output_type": "execute_result",
          "data": {
            "text/plain": [
              "1048576"
            ]
          },
          "metadata": {},
          "execution_count": 1
        }
      ],
      "source": [
        "def exponential(base, exp):\n",
        "    # TODO: add your code here for calculating the final result\n",
        "    result = 1\n",
        "    iniExp = exp\n",
        "    exp = abs(exp)\n",
        "    if exp == 0:\n",
        "      return 1\n",
        "    for f in range(exp):\n",
        "        result *= base\n",
        "    if iniExp < 0:\n",
        "      return (base / result)/2\n",
        "    return result\n",
        "\n",
        "    # for num in range(exp - 1): \n",
        "    #   result = (result\n",
        "    #             * base)\n",
        "    # print(result)\n",
        "    # return result\n",
        "\n",
        "\n",
        "exponential(4, 10)"
      ]
    },
    {
      "cell_type": "code",
      "execution_count": 2,
      "metadata": {
        "id": "gcAA3X3YfkMN",
        "colab": {
          "base_uri": "https://localhost:8080/"
        },
        "outputId": "d7889720-6b51-44bb-f9c4-5837a99176e0"
      },
      "outputs": [
        {
          "name": "stdout",
          "output_type": "stream",
          "text": [
            "What would you like to be your base value?11\n"
          ]
        }
      ],
      "source": [
        "# TODO: ask for user input, then call the exponential function\n",
        "base = eval(input(\"What would you like to be your base value?\"))"
      ]
    },
    {
      "cell_type": "markdown",
      "metadata": {
        "id": "5i0PM5hgfkMN"
      },
      "source": [
        "The cells below are autograder cells; don't edit those! But you can run them (using the Run button) to test your own code! If they don't spit out any error messages, then your code works!"
      ]
    },
    {
      "cell_type": "code",
      "execution_count": 3,
      "metadata": {
        "id": "9Fuyj6P0fkMN"
      },
      "outputs": [],
      "source": [
        "assert exponential(2,4) == 2**4"
      ]
    },
    {
      "cell_type": "code",
      "execution_count": 4,
      "metadata": {
        "id": "cTr52zFCfkMN"
      },
      "outputs": [],
      "source": [
        "assert exponential(3,0) == 3**0"
      ]
    },
    {
      "cell_type": "code",
      "execution_count": 5,
      "metadata": {
        "id": "v1DY1ulrfkMO"
      },
      "outputs": [],
      "source": [
        "assert exponential(-2,3) == (-2)**3"
      ]
    },
    {
      "cell_type": "code",
      "execution_count": 6,
      "metadata": {
        "id": "Zv-lhwRdfkMO"
      },
      "outputs": [],
      "source": [
        "assert exponential(2,-2) == 2**(-2)"
      ]
    },
    {
      "cell_type": "code",
      "execution_count": 7,
      "metadata": {
        "id": "HEzk7ijGfkMO"
      },
      "outputs": [],
      "source": [
        "import random\n",
        "\n",
        "num1 = random.randint(0,1000)\n",
        "num2 = random.randint(0,100)\n",
        "\n",
        "assert exponential(num1, num2) == num1**num2"
      ]
    },
    {
      "cell_type": "markdown",
      "metadata": {
        "id": "X7Bbl93ffkMO"
      },
      "source": [
        "# Question 4 : Functions and more functions"
      ]
    },
    {
      "cell_type": "markdown",
      "metadata": {
        "nbgrader": {
          "grade": false,
          "grade_id": "q1c_prompt",
          "locked": true,
          "schema_version": 1,
          "solution": false
        },
        "id": "R_uJg8XmfkMO"
      },
      "source": [
        "### Part A\n",
        "\n",
        "Write a function:\n",
        "\n",
        " - named `list_of_positive_indices`\n",
        " - takes 1 argument, a list\n",
        " - returns 1 value, a list\n",
        " \n",
        "In this function, you should loop through each element of the argument list. If the element is *positive*, then you should append the *index number of the positive element* to a new list. If not, skip that index (i.e. do nothing). Once the loop is finished, return the new list.\n",
        "\n",
        "For example, `list_of_positive_indices([1, -1, 0, 3])` should return `[0, 3]`. No imports!\n",
        "\n",
        "*HINT*: Instead of doing a simple `for element in list:` loop, try using the `range()` function in the loop header."
      ]
    },
    {
      "cell_type": "code",
      "execution_count": 14,
      "metadata": {
        "id": "YJsAFogkfkMP",
        "colab": {
          "base_uri": "https://localhost:8080/"
        },
        "outputId": "b122d278-d857-491d-8fd6-d91abbc84631"
      },
      "outputs": [
        {
          "output_type": "stream",
          "name": "stdout",
          "text": [
            "[1]\n",
            "[1, 3]\n"
          ]
        }
      ],
      "source": [
        "def list_of_positive_indices(in_list):\n",
        "    new_list = []\n",
        "    for number in in_list:\n",
        "      if number > 0:\n",
        "        new_list.append(number)\n",
        "      else:\n",
        "        continue\n",
        "      print(new_list)\n",
        "\n",
        "# print(new_list)\n",
        "\n",
        "list_of_positive_indices([1, -1, 0, 3])\n"
      ]
    },
    {
      "cell_type": "markdown",
      "metadata": {
        "id": "PgYjnlKcfkMP"
      },
      "source": [
        "Run the autograder cells below to test your code!"
      ]
    },
    {
      "cell_type": "code",
      "execution_count": 15,
      "metadata": {
        "collapsed": true,
        "nbgrader": {
          "grade": true,
          "grade_id": "q1c_test1",
          "locked": true,
          "points": 5,
          "schema_version": 1,
          "solution": false
        },
        "id": "2tBDkc50fkMP",
        "colab": {
          "base_uri": "https://localhost:8080/",
          "height": 287
        },
        "outputId": "3435aac2-9fab-4099-ab34-75aebbd6ddc2"
      },
      "outputs": [
        {
          "output_type": "stream",
          "name": "stdout",
          "text": [
            "[51]\n",
            "[51, 43]\n",
            "[51, 43, 22]\n",
            "[51, 43, 22, 89]\n",
            "[51, 43, 22, 89, 2]\n"
          ]
        },
        {
          "output_type": "error",
          "ename": "TypeError",
          "evalue": "ignored",
          "traceback": [
            "\u001b[0;31m---------------------------------------------------------------------------\u001b[0m",
            "\u001b[0;31mTypeError\u001b[0m                                 Traceback (most recent call last)",
            "\u001b[0;32m<ipython-input-15-8f786458eab7>\u001b[0m in \u001b[0;36m<module>\u001b[0;34m\u001b[0m\n\u001b[1;32m      5\u001b[0m \u001b[0mindices1\u001b[0m \u001b[0;34m=\u001b[0m \u001b[0mnp\u001b[0m\u001b[0;34m.\u001b[0m\u001b[0marange\u001b[0m\u001b[0;34m(\u001b[0m\u001b[0mlist1\u001b[0m\u001b[0;34m.\u001b[0m\u001b[0mshape\u001b[0m\u001b[0;34m[\u001b[0m\u001b[0;36m0\u001b[0m\u001b[0;34m]\u001b[0m\u001b[0;34m)\u001b[0m\u001b[0;34m[\u001b[0m\u001b[0mlist1\u001b[0m \u001b[0;34m>\u001b[0m \u001b[0;36m0\u001b[0m\u001b[0;34m]\u001b[0m\u001b[0;34m.\u001b[0m\u001b[0mtolist\u001b[0m\u001b[0;34m(\u001b[0m\u001b[0;34m)\u001b[0m\u001b[0;34m\u001b[0m\u001b[0;34m\u001b[0m\u001b[0m\n\u001b[1;32m      6\u001b[0m \u001b[0mpred1\u001b[0m \u001b[0;34m=\u001b[0m \u001b[0mlist_of_positive_indices\u001b[0m\u001b[0;34m(\u001b[0m\u001b[0mlist1\u001b[0m\u001b[0;34m.\u001b[0m\u001b[0mtolist\u001b[0m\u001b[0;34m(\u001b[0m\u001b[0;34m)\u001b[0m\u001b[0;34m)\u001b[0m\u001b[0;34m\u001b[0m\u001b[0;34m\u001b[0m\u001b[0m\n\u001b[0;32m----> 7\u001b[0;31m \u001b[0;32massert\u001b[0m \u001b[0mset\u001b[0m\u001b[0;34m(\u001b[0m\u001b[0mpred1\u001b[0m\u001b[0;34m)\u001b[0m \u001b[0;34m==\u001b[0m \u001b[0mset\u001b[0m\u001b[0;34m(\u001b[0m\u001b[0mindices1\u001b[0m\u001b[0;34m)\u001b[0m\u001b[0;34m\u001b[0m\u001b[0;34m\u001b[0m\u001b[0m\n\u001b[0m",
            "\u001b[0;31mTypeError\u001b[0m: 'NoneType' object is not iterable"
          ]
        }
      ],
      "source": [
        "import numpy as np\n",
        "np.random.seed(986)\n",
        "\n",
        "list1 = np.random.randint(-100, 100, 10)\n",
        "indices1 = np.arange(list1.shape[0])[list1 > 0].tolist()\n",
        "pred1 = list_of_positive_indices(list1.tolist())\n",
        "assert set(pred1) == set(indices1)"
      ]
    },
    {
      "cell_type": "code",
      "execution_count": 17,
      "metadata": {
        "collapsed": true,
        "nbgrader": {
          "grade": true,
          "grade_id": "q1c_test2",
          "locked": true,
          "points": 5,
          "schema_version": 1,
          "solution": false
        },
        "id": "mPATc23VfkMP",
        "colab": {
          "base_uri": "https://localhost:8080/",
          "height": 1000
        },
        "outputId": "5558aadd-c09a-49ee-9dde-25e73d6917dd"
      },
      "outputs": [
        {
          "output_type": "stream",
          "name": "stdout",
          "text": [
            "[65]\n",
            "[65, 57]\n",
            "[65, 57, 19]\n",
            "[65, 57, 19, 57]\n",
            "[65, 57, 19, 57, 78]\n",
            "[65, 57, 19, 57, 78, 12]\n",
            "[65, 57, 19, 57, 78, 12, 20]\n",
            "[65, 57, 19, 57, 78, 12, 20, 26]\n",
            "[65, 57, 19, 57, 78, 12, 20, 26, 74]\n",
            "[65, 57, 19, 57, 78, 12, 20, 26, 74, 24]\n",
            "[65, 57, 19, 57, 78, 12, 20, 26, 74, 24, 49]\n",
            "[65, 57, 19, 57, 78, 12, 20, 26, 74, 24, 49, 74]\n",
            "[65, 57, 19, 57, 78, 12, 20, 26, 74, 24, 49, 74, 34]\n",
            "[65, 57, 19, 57, 78, 12, 20, 26, 74, 24, 49, 74, 34, 72]\n",
            "[65, 57, 19, 57, 78, 12, 20, 26, 74, 24, 49, 74, 34, 72, 48]\n",
            "[65, 57, 19, 57, 78, 12, 20, 26, 74, 24, 49, 74, 34, 72, 48, 46]\n",
            "[65, 57, 19, 57, 78, 12, 20, 26, 74, 24, 49, 74, 34, 72, 48, 46, 26]\n",
            "[65, 57, 19, 57, 78, 12, 20, 26, 74, 24, 49, 74, 34, 72, 48, 46, 26, 1]\n",
            "[65, 57, 19, 57, 78, 12, 20, 26, 74, 24, 49, 74, 34, 72, 48, 46, 26, 1, 69]\n",
            "[65, 57, 19, 57, 78, 12, 20, 26, 74, 24, 49, 74, 34, 72, 48, 46, 26, 1, 69, 16]\n",
            "[65, 57, 19, 57, 78, 12, 20, 26, 74, 24, 49, 74, 34, 72, 48, 46, 26, 1, 69, 16, 84]\n",
            "[65, 57, 19, 57, 78, 12, 20, 26, 74, 24, 49, 74, 34, 72, 48, 46, 26, 1, 69, 16, 84, 87]\n",
            "[65, 57, 19, 57, 78, 12, 20, 26, 74, 24, 49, 74, 34, 72, 48, 46, 26, 1, 69, 16, 84, 87, 64]\n",
            "[65, 57, 19, 57, 78, 12, 20, 26, 74, 24, 49, 74, 34, 72, 48, 46, 26, 1, 69, 16, 84, 87, 64, 31]\n",
            "[65, 57, 19, 57, 78, 12, 20, 26, 74, 24, 49, 74, 34, 72, 48, 46, 26, 1, 69, 16, 84, 87, 64, 31, 27]\n",
            "[65, 57, 19, 57, 78, 12, 20, 26, 74, 24, 49, 74, 34, 72, 48, 46, 26, 1, 69, 16, 84, 87, 64, 31, 27, 58]\n",
            "[65, 57, 19, 57, 78, 12, 20, 26, 74, 24, 49, 74, 34, 72, 48, 46, 26, 1, 69, 16, 84, 87, 64, 31, 27, 58, 18]\n",
            "[65, 57, 19, 57, 78, 12, 20, 26, 74, 24, 49, 74, 34, 72, 48, 46, 26, 1, 69, 16, 84, 87, 64, 31, 27, 58, 18, 39]\n",
            "[65, 57, 19, 57, 78, 12, 20, 26, 74, 24, 49, 74, 34, 72, 48, 46, 26, 1, 69, 16, 84, 87, 64, 31, 27, 58, 18, 39, 88]\n",
            "[65, 57, 19, 57, 78, 12, 20, 26, 74, 24, 49, 74, 34, 72, 48, 46, 26, 1, 69, 16, 84, 87, 64, 31, 27, 58, 18, 39, 88, 71]\n",
            "[65, 57, 19, 57, 78, 12, 20, 26, 74, 24, 49, 74, 34, 72, 48, 46, 26, 1, 69, 16, 84, 87, 64, 31, 27, 58, 18, 39, 88, 71, 84]\n",
            "[65, 57, 19, 57, 78, 12, 20, 26, 74, 24, 49, 74, 34, 72, 48, 46, 26, 1, 69, 16, 84, 87, 64, 31, 27, 58, 18, 39, 88, 71, 84, 59]\n",
            "[65, 57, 19, 57, 78, 12, 20, 26, 74, 24, 49, 74, 34, 72, 48, 46, 26, 1, 69, 16, 84, 87, 64, 31, 27, 58, 18, 39, 88, 71, 84, 59, 89]\n",
            "[65, 57, 19, 57, 78, 12, 20, 26, 74, 24, 49, 74, 34, 72, 48, 46, 26, 1, 69, 16, 84, 87, 64, 31, 27, 58, 18, 39, 88, 71, 84, 59, 89, 48]\n",
            "[65, 57, 19, 57, 78, 12, 20, 26, 74, 24, 49, 74, 34, 72, 48, 46, 26, 1, 69, 16, 84, 87, 64, 31, 27, 58, 18, 39, 88, 71, 84, 59, 89, 48, 41]\n",
            "[65, 57, 19, 57, 78, 12, 20, 26, 74, 24, 49, 74, 34, 72, 48, 46, 26, 1, 69, 16, 84, 87, 64, 31, 27, 58, 18, 39, 88, 71, 84, 59, 89, 48, 41, 73]\n",
            "[65, 57, 19, 57, 78, 12, 20, 26, 74, 24, 49, 74, 34, 72, 48, 46, 26, 1, 69, 16, 84, 87, 64, 31, 27, 58, 18, 39, 88, 71, 84, 59, 89, 48, 41, 73, 77]\n",
            "[65, 57, 19, 57, 78, 12, 20, 26, 74, 24, 49, 74, 34, 72, 48, 46, 26, 1, 69, 16, 84, 87, 64, 31, 27, 58, 18, 39, 88, 71, 84, 59, 89, 48, 41, 73, 77, 20]\n",
            "[65, 57, 19, 57, 78, 12, 20, 26, 74, 24, 49, 74, 34, 72, 48, 46, 26, 1, 69, 16, 84, 87, 64, 31, 27, 58, 18, 39, 88, 71, 84, 59, 89, 48, 41, 73, 77, 20, 63]\n",
            "[65, 57, 19, 57, 78, 12, 20, 26, 74, 24, 49, 74, 34, 72, 48, 46, 26, 1, 69, 16, 84, 87, 64, 31, 27, 58, 18, 39, 88, 71, 84, 59, 89, 48, 41, 73, 77, 20, 63, 79]\n",
            "[65, 57, 19, 57, 78, 12, 20, 26, 74, 24, 49, 74, 34, 72, 48, 46, 26, 1, 69, 16, 84, 87, 64, 31, 27, 58, 18, 39, 88, 71, 84, 59, 89, 48, 41, 73, 77, 20, 63, 79, 17]\n",
            "[65, 57, 19, 57, 78, 12, 20, 26, 74, 24, 49, 74, 34, 72, 48, 46, 26, 1, 69, 16, 84, 87, 64, 31, 27, 58, 18, 39, 88, 71, 84, 59, 89, 48, 41, 73, 77, 20, 63, 79, 17, 19]\n",
            "[65, 57, 19, 57, 78, 12, 20, 26, 74, 24, 49, 74, 34, 72, 48, 46, 26, 1, 69, 16, 84, 87, 64, 31, 27, 58, 18, 39, 88, 71, 84, 59, 89, 48, 41, 73, 77, 20, 63, 79, 17, 19, 34]\n",
            "[65, 57, 19, 57, 78, 12, 20, 26, 74, 24, 49, 74, 34, 72, 48, 46, 26, 1, 69, 16, 84, 87, 64, 31, 27, 58, 18, 39, 88, 71, 84, 59, 89, 48, 41, 73, 77, 20, 63, 79, 17, 19, 34, 12]\n",
            "[65, 57, 19, 57, 78, 12, 20, 26, 74, 24, 49, 74, 34, 72, 48, 46, 26, 1, 69, 16, 84, 87, 64, 31, 27, 58, 18, 39, 88, 71, 84, 59, 89, 48, 41, 73, 77, 20, 63, 79, 17, 19, 34, 12, 8]\n",
            "[65, 57, 19, 57, 78, 12, 20, 26, 74, 24, 49, 74, 34, 72, 48, 46, 26, 1, 69, 16, 84, 87, 64, 31, 27, 58, 18, 39, 88, 71, 84, 59, 89, 48, 41, 73, 77, 20, 63, 79, 17, 19, 34, 12, 8, 86]\n",
            "[65, 57, 19, 57, 78, 12, 20, 26, 74, 24, 49, 74, 34, 72, 48, 46, 26, 1, 69, 16, 84, 87, 64, 31, 27, 58, 18, 39, 88, 71, 84, 59, 89, 48, 41, 73, 77, 20, 63, 79, 17, 19, 34, 12, 8, 86, 67]\n",
            "[65, 57, 19, 57, 78, 12, 20, 26, 74, 24, 49, 74, 34, 72, 48, 46, 26, 1, 69, 16, 84, 87, 64, 31, 27, 58, 18, 39, 88, 71, 84, 59, 89, 48, 41, 73, 77, 20, 63, 79, 17, 19, 34, 12, 8, 86, 67, 53]\n",
            "[65, 57, 19, 57, 78, 12, 20, 26, 74, 24, 49, 74, 34, 72, 48, 46, 26, 1, 69, 16, 84, 87, 64, 31, 27, 58, 18, 39, 88, 71, 84, 59, 89, 48, 41, 73, 77, 20, 63, 79, 17, 19, 34, 12, 8, 86, 67, 53, 28]\n",
            "[65, 57, 19, 57, 78, 12, 20, 26, 74, 24, 49, 74, 34, 72, 48, 46, 26, 1, 69, 16, 84, 87, 64, 31, 27, 58, 18, 39, 88, 71, 84, 59, 89, 48, 41, 73, 77, 20, 63, 79, 17, 19, 34, 12, 8, 86, 67, 53, 28, 73]\n",
            "[65, 57, 19, 57, 78, 12, 20, 26, 74, 24, 49, 74, 34, 72, 48, 46, 26, 1, 69, 16, 84, 87, 64, 31, 27, 58, 18, 39, 88, 71, 84, 59, 89, 48, 41, 73, 77, 20, 63, 79, 17, 19, 34, 12, 8, 86, 67, 53, 28, 73, 53]\n",
            "[65, 57, 19, 57, 78, 12, 20, 26, 74, 24, 49, 74, 34, 72, 48, 46, 26, 1, 69, 16, 84, 87, 64, 31, 27, 58, 18, 39, 88, 71, 84, 59, 89, 48, 41, 73, 77, 20, 63, 79, 17, 19, 34, 12, 8, 86, 67, 53, 28, 73, 53, 51]\n",
            "[65, 57, 19, 57, 78, 12, 20, 26, 74, 24, 49, 74, 34, 72, 48, 46, 26, 1, 69, 16, 84, 87, 64, 31, 27, 58, 18, 39, 88, 71, 84, 59, 89, 48, 41, 73, 77, 20, 63, 79, 17, 19, 34, 12, 8, 86, 67, 53, 28, 73, 53, 51, 6]\n",
            "[65, 57, 19, 57, 78, 12, 20, 26, 74, 24, 49, 74, 34, 72, 48, 46, 26, 1, 69, 16, 84, 87, 64, 31, 27, 58, 18, 39, 88, 71, 84, 59, 89, 48, 41, 73, 77, 20, 63, 79, 17, 19, 34, 12, 8, 86, 67, 53, 28, 73, 53, 51, 6, 8]\n",
            "[65, 57, 19, 57, 78, 12, 20, 26, 74, 24, 49, 74, 34, 72, 48, 46, 26, 1, 69, 16, 84, 87, 64, 31, 27, 58, 18, 39, 88, 71, 84, 59, 89, 48, 41, 73, 77, 20, 63, 79, 17, 19, 34, 12, 8, 86, 67, 53, 28, 73, 53, 51, 6, 8, 81]\n",
            "[65, 57, 19, 57, 78, 12, 20, 26, 74, 24, 49, 74, 34, 72, 48, 46, 26, 1, 69, 16, 84, 87, 64, 31, 27, 58, 18, 39, 88, 71, 84, 59, 89, 48, 41, 73, 77, 20, 63, 79, 17, 19, 34, 12, 8, 86, 67, 53, 28, 73, 53, 51, 6, 8, 81, 88]\n"
          ]
        },
        {
          "output_type": "error",
          "ename": "TypeError",
          "evalue": "ignored",
          "traceback": [
            "\u001b[0;31m---------------------------------------------------------------------------\u001b[0m",
            "\u001b[0;31mTypeError\u001b[0m                                 Traceback (most recent call last)",
            "\u001b[0;32m<ipython-input-17-64ccafb5b3ba>\u001b[0m in \u001b[0;36m<module>\u001b[0;34m\u001b[0m\n\u001b[1;32m      4\u001b[0m \u001b[0mindices2\u001b[0m \u001b[0;34m=\u001b[0m \u001b[0mnp\u001b[0m\u001b[0;34m.\u001b[0m\u001b[0marange\u001b[0m\u001b[0;34m(\u001b[0m\u001b[0mlist2\u001b[0m\u001b[0;34m.\u001b[0m\u001b[0mshape\u001b[0m\u001b[0;34m[\u001b[0m\u001b[0;36m0\u001b[0m\u001b[0;34m]\u001b[0m\u001b[0;34m)\u001b[0m\u001b[0;34m[\u001b[0m\u001b[0mlist2\u001b[0m \u001b[0;34m>\u001b[0m \u001b[0;36m0\u001b[0m\u001b[0;34m]\u001b[0m\u001b[0;34m.\u001b[0m\u001b[0mtolist\u001b[0m\u001b[0;34m(\u001b[0m\u001b[0;34m)\u001b[0m\u001b[0;34m\u001b[0m\u001b[0;34m\u001b[0m\u001b[0m\n\u001b[1;32m      5\u001b[0m \u001b[0mpred2\u001b[0m \u001b[0;34m=\u001b[0m \u001b[0mlist_of_positive_indices\u001b[0m\u001b[0;34m(\u001b[0m\u001b[0mlist2\u001b[0m\u001b[0;34m.\u001b[0m\u001b[0mtolist\u001b[0m\u001b[0;34m(\u001b[0m\u001b[0;34m)\u001b[0m\u001b[0;34m)\u001b[0m\u001b[0;34m\u001b[0m\u001b[0;34m\u001b[0m\u001b[0m\n\u001b[0;32m----> 6\u001b[0;31m \u001b[0;32massert\u001b[0m \u001b[0mset\u001b[0m\u001b[0;34m(\u001b[0m\u001b[0mpred2\u001b[0m\u001b[0;34m)\u001b[0m \u001b[0;34m==\u001b[0m \u001b[0mset\u001b[0m\u001b[0;34m(\u001b[0m\u001b[0mindices2\u001b[0m\u001b[0;34m)\u001b[0m\u001b[0;34m\u001b[0m\u001b[0;34m\u001b[0m\u001b[0m\n\u001b[0m",
            "\u001b[0;31mTypeError\u001b[0m: 'NoneType' object is not iterable"
          ]
        }
      ],
      "source": [
        "np.random.seed(578752)\n",
        "\n",
        "list2 = np.random.randint(-100, 100, 100)\n",
        "indices2 = np.arange(list2.shape[0])[list2 > 0].tolist()\n",
        "pred2 = list_of_positive_indices(list2.tolist())\n",
        "assert set(pred2) == set(indices2)"
      ]
    },
    {
      "cell_type": "markdown",
      "metadata": {
        "nbgrader": {
          "grade": false,
          "grade_id": "q2a_prompt",
          "locked": true,
          "schema_version": 1,
          "solution": false
        },
        "id": "7nbRkMgGfkMP"
      },
      "source": [
        "### Part B\n",
        "\n",
        "Write a function that tests if a number is even.\n",
        "\n",
        "*HINT*: Recall the modulo operator `%`. This performs division on two numbers, but instead of returning their quotient, it returns the *remainder* of the division. For example, `7 % 3` returns 1, since the quotient is 2 with a remainder of 1.\n",
        "\n",
        "Your function should:\n",
        "\n",
        " - be named `is_even`\n",
        " - take 1 argument, a number\n",
        " - return `True` if the argument is even, `False` otherwise\n",
        " \n",
        "Make sure you're returning a *boolean*!"
      ]
    },
    {
      "cell_type": "code",
      "execution_count": 18,
      "metadata": {
        "collapsed": true,
        "nbgrader": {
          "grade": false,
          "grade_id": "q2a",
          "locked": false,
          "schema_version": 1,
          "solution": true
        },
        "id": "iSNTlvydfkMP"
      },
      "outputs": [],
      "source": [
        "def is_even(num):\n",
        "    if num % 2 == 0:\n",
        "      return True\n",
        "    else:\n",
        "      return False"
      ]
    },
    {
      "cell_type": "code",
      "execution_count": 19,
      "metadata": {
        "collapsed": true,
        "nbgrader": {
          "grade": true,
          "grade_id": "q2a_test1",
          "locked": true,
          "points": 2.5,
          "schema_version": 1,
          "solution": false
        },
        "id": "BKdz-JcCfkMQ"
      },
      "outputs": [],
      "source": [
        "assert is_even(3) == False"
      ]
    },
    {
      "cell_type": "code",
      "execution_count": 20,
      "metadata": {
        "collapsed": true,
        "nbgrader": {
          "grade": true,
          "grade_id": "q2a_test2",
          "locked": true,
          "points": 2.5,
          "schema_version": 1,
          "solution": false
        },
        "id": "ta22ZUr8fkMQ"
      },
      "outputs": [],
      "source": [
        "assert is_even(123456789) == False"
      ]
    },
    {
      "cell_type": "code",
      "execution_count": 21,
      "metadata": {
        "collapsed": true,
        "nbgrader": {
          "grade": true,
          "grade_id": "q2a_test3",
          "locked": true,
          "points": 2.5,
          "schema_version": 1,
          "solution": false
        },
        "id": "4wQr2b-5fkMQ"
      },
      "outputs": [],
      "source": [
        "assert is_even(42) == True"
      ]
    },
    {
      "cell_type": "code",
      "execution_count": 22,
      "metadata": {
        "collapsed": true,
        "nbgrader": {
          "grade": true,
          "grade_id": "q2a_test4",
          "locked": true,
          "points": 2.5,
          "schema_version": 1,
          "solution": false
        },
        "id": "4GGUfcGifkMQ"
      },
      "outputs": [],
      "source": [
        "assert is_even(42.1) == False"
      ]
    },
    {
      "cell_type": "markdown",
      "metadata": {
        "nbgrader": {
          "grade": false,
          "grade_id": "q2b_prompt",
          "locked": true,
          "schema_version": 1,
          "solution": false
        },
        "id": "qIa06d9pfkMQ"
      },
      "source": [
        "### Part C\n",
        "\n",
        "How could you test if a number is *odd*, using your `is_even` function from Part B?\n",
        "\n",
        "Write your answer, either using 1 line of code or explaining in only 1 sentence, in the box below (double click on the statement below to activate the box)."
      ]
    },
    {
      "cell_type": "markdown",
      "metadata": {
        "nbgrader": {
          "grade": true,
          "grade_id": "q2b",
          "locked": false,
          "points": 5,
          "schema_version": 1,
          "solution": true
        },
        "id": "YtyHC6v_fkMQ"
      },
      "source": [
        "you could test if it is odd by getting the remainder and checking if it is equal to one."
      ]
    },
    {
      "cell_type": "markdown",
      "metadata": {
        "nbgrader": {
          "grade": false,
          "grade_id": "q2c_prompt",
          "locked": true,
          "schema_version": 1,
          "solution": false
        },
        "id": "xnP3TI31fkMQ"
      },
      "source": [
        "### Part D *(Optional)*\n",
        "\n",
        "*This part is optional*. Write a function that finds the *second-smallest* number in a list of numbers. Your function should:\n",
        "\n",
        " - be named `second_smallest`\n",
        " - take 1 argument, a list of numbers\n",
        " - return 1 number, the second-smallest number in the list\n",
        " \n",
        "Take note of that last point. There's a possibility, after all, that the list your function receives as input will have 1 or even 0 elements in it. How, then, do you return the second-smallest element of a 0-element list? Well, simply, you can't. So instead, you'll return False.\n",
        "\n",
        "For example, `second_smallest([1, 2, 3])` should return `2`. Another example `second_smallest([10, 100, 1000, 10000])` should return 100. And `second_smallest([1])` should returb `False`.\n",
        "\n",
        "You **cannot** use any built-in sorting functions! Only `range()` and `len()`."
      ]
    },
    {
      "cell_type": "code",
      "execution_count": null,
      "metadata": {
        "nbgrader": {
          "grade": false,
          "grade_id": "q2c",
          "locked": false,
          "schema_version": 1,
          "solution": true
        },
        "id": "GXdtvvpafkMR"
      },
      "outputs": [],
      "source": [
        "def second_smallest(in_list):\n",
        "    pass"
      ]
    },
    {
      "cell_type": "code",
      "execution_count": null,
      "metadata": {
        "nbgrader": {
          "grade": true,
          "grade_id": "q2c_test1",
          "locked": true,
          "points": 5,
          "schema_version": 1,
          "solution": false
        },
        "id": "NavmS-njfkMR"
      },
      "outputs": [],
      "source": [
        "import numpy as np\n",
        "np.random.seed(89547)\n",
        "\n",
        "l1 = np.random.randint(-100, 100, 100)\n",
        "a1 = np.sort(l1)[1]\n",
        "np.testing.assert_allclose(a1, second_smallest(l1.tolist()))"
      ]
    },
    {
      "cell_type": "code",
      "execution_count": null,
      "metadata": {
        "nbgrader": {
          "grade": true,
          "grade_id": "q2c_test2",
          "locked": true,
          "points": 5,
          "schema_version": 1,
          "solution": false
        },
        "id": "MvO3PvGPfkMR"
      },
      "outputs": [],
      "source": [
        "np.random.seed(485)\n",
        "\n",
        "l2 = np.random.randint(0, 1000, 100)\n",
        "a2 = np.sort(l2)[1]\n",
        "np.testing.assert_allclose(a2, second_smallest(l2.tolist()))"
      ]
    },
    {
      "cell_type": "code",
      "execution_count": null,
      "metadata": {
        "nbgrader": {
          "grade": true,
          "grade_id": "q2c_test3",
          "locked": true,
          "points": 2.5,
          "schema_version": 1,
          "solution": false
        },
        "id": "3CnvmW2VfkMR"
      },
      "outputs": [],
      "source": [
        "assert second_smallest([]) == False"
      ]
    },
    {
      "cell_type": "code",
      "execution_count": null,
      "metadata": {
        "nbgrader": {
          "grade": true,
          "grade_id": "q2c_test4",
          "locked": true,
          "points": 2.5,
          "schema_version": 1,
          "solution": false
        },
        "id": "npfjxRbqfkMR"
      },
      "outputs": [],
      "source": [
        "assert second_smallest([100]) == False"
      ]
    },
    {
      "cell_type": "markdown",
      "metadata": {
        "id": "pbiH3qW3fkMR"
      },
      "source": [
        "# Question 5: Greetings"
      ]
    },
    {
      "cell_type": "markdown",
      "metadata": {
        "id": "eTr4NndefkMR"
      },
      "source": [
        "### Part A\n",
        "\n",
        "Print a greeting saying “Hello, Harry” and “Goodbye, Potter” using only the variables provided below. Complete instructions below."
      ]
    },
    {
      "cell_type": "code",
      "execution_count": 71,
      "metadata": {
        "id": "tmWsYNjvfkMR",
        "colab": {
          "base_uri": "https://localhost:8080/"
        },
        "outputId": "5d150a79-3fbb-4c8b-839f-5966785b443e"
      },
      "outputs": [
        {
          "output_type": "stream",
          "name": "stdout",
          "text": [
            "Hello Harry!!!\n",
            "Goodbye,Potter!!!\n",
            "********************\n",
            "*                  *\n",
            "*  Hello Harry!!!  *\n",
            "*                  *\n",
            "********************\n",
            "********************\n",
            "*                  *\n",
            "* Goodbye,Potter!!!*\n",
            "*                  *\n",
            "********************\n"
          ]
        }
      ],
      "source": [
        "# Write a series of print statements to recreate a \n",
        "# greeting box and a goodbye box for Harry Potter.\n",
        "\n",
        "# *******************\n",
        "# *                 *\n",
        "# * Hello, Harry!!! *\n",
        "# *                 *\n",
        "# *******************\n",
        "#\n",
        "# ***********************\n",
        "# *                     *\n",
        "# * Goodbye, Potter!!!  *\n",
        "# *                     *\n",
        "# ***********************\n",
        "\n",
        "\n",
        "name = 'Harry Potter'\n",
        "greeting = 'Hello, world!'\n",
        "goodbye = 'Goodbye, all!'\n",
        "space = ' '\n",
        "star = '*'\n",
        "\n",
        "name = name.split(' ')\n",
        "greeting = greeting.split(' ')\n",
        "goodbye = 'Goodbye, Potter!!!'\n",
        "goodbye = goodbye.split(' ')\n",
        "name = greeting[0] + name[0]\n",
        "name = name.replace(',', ' ')\n",
        "greeting = \"!!!\"\n",
        "name = str(name) + str(greeting)\n",
        "print(name)\n",
        "# goodbye = str(goodbye).replace('[', '')\n",
        "# goodbye = str(goodbye).replace(']', '')\n",
        "goodbye = goodbye[0] + goodbye[1]\n",
        "print(goodbye)\n",
        "# You may only use the variables defined above. \n",
        "# For example, if you wanted to print\n",
        "# a \"T\" in stars, you would do:\n",
        "\n",
        "print (star * 20)\n",
        "print (star + space * 18 + star)\n",
        "print (star + space*2 + name + space*2 + star)\n",
        "print (star + space * 18 + star)\n",
        "print (star * 20)\n",
        "\n",
        "print (star * 20)\n",
        "print (star + space * 18 + star)\n",
        "print (star + space + goodbye + star)\n",
        "print (star + space * 18 + star)\n",
        "print (star * 20)\n",
        "\n",
        "# print (star * 3)\n",
        "# print (space + star + space)\n",
        "# print (space + star + space)\n",
        "\n",
        "# The answer below would not be acceptable:\n",
        "# print ('***')\n",
        "# print (' * ')\n",
        "# print (' * ')"
      ]
    },
    {
      "cell_type": "code",
      "source": [],
      "metadata": {
        "id": "R-im6qKNlmXF"
      },
      "execution_count": null,
      "outputs": []
    },
    {
      "cell_type": "markdown",
      "metadata": {
        "id": "hCT9POa-fkMS"
      },
      "source": [
        "### Part B\n",
        " \n",
        " **Reflection:** The output of `greetings` looks very similar to the one from PS0. However, the code looks different. How would you compare the two versions? What advantages/disadvantages do you see in the two approaches?"
      ]
    },
    {
      "cell_type": "markdown",
      "metadata": {
        "id": "cOMd8KaZfkMS"
      },
      "source": [
        "The new one is far easier to edit and add to especially when editing multiple at once, wheras the other way around would need to be edited each in specific."
      ]
    },
    {
      "cell_type": "markdown",
      "metadata": {
        "id": "uK7xy8tjfkMS"
      },
      "source": [
        "# Question 6: Acronym"
      ]
    },
    {
      "cell_type": "markdown",
      "metadata": {
        "id": "jylW-zVwfkMS"
      },
      "source": [
        "This exercise will allow you to practice with the methods for strings and lists. An acronym is a word formed by taking the first letters of the words in a phrase and making a word from them. For example, RAM is an acronym for “random access memory.” In this exercise, you are going to write a program that should allow the user to type in a phrase, and the computer should then output the acronym for that phrase. An example of how your program should work is as follows:"
      ]
    },
    {
      "cell_type": "markdown",
      "metadata": {
        "id": "dbAw58pnfkMS"
      },
      "source": [
        "```\n",
        "    Enter a phrase: loyola marymount university\n",
        "    Your acronym is: LMU\n",
        "```"
      ]
    },
    {
      "cell_type": "markdown",
      "metadata": {
        "id": "eaYPV5fyfkMS"
      },
      "source": [
        "**Note:** The acronym should be all uppercase, even if the words in the phrase are not capitalized."
      ]
    },
    {
      "cell_type": "code",
      "execution_count": 77,
      "metadata": {
        "id": "IsLigXSFfkMS",
        "colab": {
          "base_uri": "https://localhost:8080/"
        },
        "outputId": "2a058382-62e8-42bf-af1d-fc91825e79d3"
      },
      "outputs": [
        {
          "output_type": "stream",
          "name": "stdout",
          "text": [
            "Enter a phrase: PIhao aoihihs\n",
            "Your acronym is:  PA\n"
          ]
        }
      ],
      "source": [
        "# TODO: Ask the user to input a phrase.\n",
        "# TODO: Print out an all-caps acronym for the phrase.\n",
        "\n",
        "# phrase = eval(input('Write your phrase seperated by spaces'))\n",
        "\n",
        "acronym = \"\"\n",
        "phrase = input(\"Enter a phrase: \")\n",
        "new_phrase =(phrase.replace('of','')).replace('and','').split()\n",
        "for word in new_phrase:\n",
        "    acronym = acronym + word[0].upper()\n",
        "print('Your acronym is: ', acronym)"
      ]
    }
  ],
  "metadata": {
    "kernelspec": {
      "display_name": "Python 3",
      "language": "python",
      "name": "python3"
    },
    "language_info": {
      "codemirror_mode": {
        "name": "ipython",
        "version": 3
      },
      "file_extension": ".py",
      "mimetype": "text/x-python",
      "name": "python",
      "nbconvert_exporter": "python",
      "pygments_lexer": "ipython3",
      "version": "3.8.5"
    },
    "colab": {
      "provenance": [],
      "include_colab_link": true
    }
  },
  "nbformat": 4,
  "nbformat_minor": 0
}